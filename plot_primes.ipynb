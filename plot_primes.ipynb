{
 "cells": [
  {
   "cell_type": "code",
   "execution_count": 12,
   "metadata": {
    "collapsed": true
   },
   "outputs": [],
   "source": [
    "import pandas as pd\n",
    "import matplotlib\n",
    "import matplotlib.pyplot as plt\n",
    "import numpy as np\n",
    "\n",
    "# Data for plotting\n",
    "df = pd.read_csv('data/primes.txt', header=None, names=['n', 'prime', 'diff'])\n",
    "\n",
    "def plot(df):\n",
    "    n = df['n']\n",
    "    p = df['prime']\n",
    "    diff = df['diff']\n",
    "\n",
    "    # Note that using plt.subplots below is equivalent to using\n",
    "    # fig = plt.figure() and then ax = fig.add_subplot(111)\n",
    "    fig, ax = plt.subplots()\n",
    "    ax.plot(n, diff)\n",
    "\n",
    "    ax.set(xlabel='n', ylabel='difference from previous prime',\n",
    "           title='prime numbers')\n",
    "    ax.grid()\n",
    "\n",
    "    fig.savefig(\"test.png\")\n",
    "    plt.show()\n",
    "\n",
    "    return None\n",
    "\n",
    "def hist(df):\n",
    "    h = pd.DataFrame.hist(df, column='diff', bins=160)\n",
    "\n",
    "    return h"
   ]
  },
  {
   "cell_type": "code",
   "execution_count": 13,
   "metadata": {
    "collapsed": true
   },
   "outputs": [],
   "source": [
    "h = hist(df)"
   ]
  },
  {
   "cell_type": "code",
   "execution_count": 14,
   "metadata": {},
   "outputs": [
    {
     "data": {
      "image/png": "[encoded data removed]",
      "text/plain": [
       "<Figure size 432x288 with 1 Axes>"
      ]
     },
     "metadata": {},
     "output_type": "display_data"
    }
   ],
   "source": [
    "plt.show()"
   ]
  },
  {
   "cell_type": "code",
   "execution_count": 10,
   "metadata": {
    "collapsed": true
   },
   "outputs": [],
   "source": []
  }
 ],
 "metadata": {
  "kernelspec": {
   "display_name": "Python 3",
   "language": "python",
   "name": "python3"
  },
  "language_info": {
   "codemirror_mode": {
    "name": "ipython",
    "version": 3
   },
   "file_extension": ".py",
   "mimetype": "text/x-python",
   "name": "python",
   "nbconvert_exporter": "python",
   "pygments_lexer": "ipython3",
   "version": "3.6.2"
  }
 },
 "nbformat": 4,
 "nbformat_minor": 2
}
